{
 "cells": [
  {
   "cell_type": "markdown",
   "id": "1acd8325",
   "metadata": {},
   "source": [
    "# <font color='red'>Warning control</font>"
   ]
  },
  {
   "cell_type": "code",
   "execution_count": 1,
   "id": "d015d306",
   "metadata": {},
   "outputs": [],
   "source": [
    "from warnings import filterwarnings\n",
    "filterwarnings('ignore')"
   ]
  },
  {
   "cell_type": "markdown",
   "id": "c21a48f5",
   "metadata": {},
   "source": [
    "# <font color='red'>Librairies importation</font>"
   ]
  },
  {
   "cell_type": "code",
   "execution_count": 2,
   "id": "fd7c914d",
   "metadata": {},
   "outputs": [],
   "source": [
    "import pandas as pd\n",
    "import numpy as np\n",
    "import matplotlib.pyplot as plt\n",
    "import seaborn as sns\n",
    "from scipy import stats\n",
    "plt.style.use('ggplot')"
   ]
  },
  {
   "cell_type": "code",
   "execution_count": 3,
   "id": "f47cf117",
   "metadata": {},
   "outputs": [
    {
     "data": {
      "text/html": [
       "<div>\n",
       "<style scoped>\n",
       "    .dataframe tbody tr th:only-of-type {\n",
       "        vertical-align: middle;\n",
       "    }\n",
       "\n",
       "    .dataframe tbody tr th {\n",
       "        vertical-align: top;\n",
       "    }\n",
       "\n",
       "    .dataframe thead th {\n",
       "        text-align: right;\n",
       "    }\n",
       "</style>\n",
       "<table border=\"1\" class=\"dataframe\">\n",
       "  <thead>\n",
       "    <tr style=\"text-align: right;\">\n",
       "      <th></th>\n",
       "      <th>Unnamed: 0</th>\n",
       "      <th>minority</th>\n",
       "      <th>age</th>\n",
       "      <th>gender</th>\n",
       "      <th>credits</th>\n",
       "      <th>beauty</th>\n",
       "      <th>eval</th>\n",
       "      <th>division</th>\n",
       "      <th>native</th>\n",
       "      <th>tenure</th>\n",
       "      <th>students</th>\n",
       "      <th>allstudents</th>\n",
       "      <th>prof</th>\n",
       "    </tr>\n",
       "  </thead>\n",
       "  <tbody>\n",
       "    <tr>\n",
       "      <th>0</th>\n",
       "      <td>1</td>\n",
       "      <td>yes</td>\n",
       "      <td>36</td>\n",
       "      <td>female</td>\n",
       "      <td>more</td>\n",
       "      <td>0.289916</td>\n",
       "      <td>4.3</td>\n",
       "      <td>upper</td>\n",
       "      <td>yes</td>\n",
       "      <td>yes</td>\n",
       "      <td>24</td>\n",
       "      <td>43</td>\n",
       "      <td>1</td>\n",
       "    </tr>\n",
       "    <tr>\n",
       "      <th>1</th>\n",
       "      <td>2</td>\n",
       "      <td>no</td>\n",
       "      <td>59</td>\n",
       "      <td>male</td>\n",
       "      <td>more</td>\n",
       "      <td>-0.737732</td>\n",
       "      <td>4.5</td>\n",
       "      <td>upper</td>\n",
       "      <td>yes</td>\n",
       "      <td>yes</td>\n",
       "      <td>17</td>\n",
       "      <td>20</td>\n",
       "      <td>2</td>\n",
       "    </tr>\n",
       "    <tr>\n",
       "      <th>2</th>\n",
       "      <td>3</td>\n",
       "      <td>no</td>\n",
       "      <td>51</td>\n",
       "      <td>male</td>\n",
       "      <td>more</td>\n",
       "      <td>-0.571984</td>\n",
       "      <td>3.7</td>\n",
       "      <td>upper</td>\n",
       "      <td>yes</td>\n",
       "      <td>yes</td>\n",
       "      <td>55</td>\n",
       "      <td>55</td>\n",
       "      <td>3</td>\n",
       "    </tr>\n",
       "    <tr>\n",
       "      <th>3</th>\n",
       "      <td>4</td>\n",
       "      <td>no</td>\n",
       "      <td>40</td>\n",
       "      <td>female</td>\n",
       "      <td>more</td>\n",
       "      <td>-0.677963</td>\n",
       "      <td>4.3</td>\n",
       "      <td>upper</td>\n",
       "      <td>yes</td>\n",
       "      <td>yes</td>\n",
       "      <td>40</td>\n",
       "      <td>46</td>\n",
       "      <td>4</td>\n",
       "    </tr>\n",
       "    <tr>\n",
       "      <th>4</th>\n",
       "      <td>5</td>\n",
       "      <td>no</td>\n",
       "      <td>31</td>\n",
       "      <td>female</td>\n",
       "      <td>more</td>\n",
       "      <td>1.509794</td>\n",
       "      <td>4.4</td>\n",
       "      <td>upper</td>\n",
       "      <td>yes</td>\n",
       "      <td>yes</td>\n",
       "      <td>42</td>\n",
       "      <td>48</td>\n",
       "      <td>5</td>\n",
       "    </tr>\n",
       "  </tbody>\n",
       "</table>\n",
       "</div>"
      ],
      "text/plain": [
       "   Unnamed: 0 minority  age  gender credits    beauty  eval division native  \\\n",
       "0           1      yes   36  female    more  0.289916   4.3    upper    yes   \n",
       "1           2       no   59    male    more -0.737732   4.5    upper    yes   \n",
       "2           3       no   51    male    more -0.571984   3.7    upper    yes   \n",
       "3           4       no   40  female    more -0.677963   4.3    upper    yes   \n",
       "4           5       no   31  female    more  1.509794   4.4    upper    yes   \n",
       "\n",
       "  tenure  students  allstudents  prof  \n",
       "0    yes        24           43     1  \n",
       "1    yes        17           20     2  \n",
       "2    yes        55           55     3  \n",
       "3    yes        40           46     4  \n",
       "4    yes        42           48     5  "
      ]
     },
     "execution_count": 3,
     "metadata": {},
     "output_type": "execute_result"
    }
   ],
   "source": [
    "# dataset importation\n",
    "df = pd.read_csv('Data/TeachingRatings.csv')\n",
    "df.head()"
   ]
  },
  {
   "cell_type": "code",
   "execution_count": 4,
   "id": "d2de078b",
   "metadata": {},
   "outputs": [
    {
     "name": "stdout",
     "output_type": "stream",
     "text": [
      "<class 'pandas.core.frame.DataFrame'>\n",
      "RangeIndex: 463 entries, 0 to 462\n",
      "Data columns (total 13 columns):\n",
      " #   Column       Non-Null Count  Dtype  \n",
      "---  ------       --------------  -----  \n",
      " 0   Unnamed: 0   463 non-null    int64  \n",
      " 1   minority     463 non-null    object \n",
      " 2   age          463 non-null    int64  \n",
      " 3   gender       463 non-null    object \n",
      " 4   credits      463 non-null    object \n",
      " 5   beauty       463 non-null    float64\n",
      " 6   eval         463 non-null    float64\n",
      " 7   division     463 non-null    object \n",
      " 8   native       463 non-null    object \n",
      " 9   tenure       463 non-null    object \n",
      " 10  students     463 non-null    int64  \n",
      " 11  allstudents  463 non-null    int64  \n",
      " 12  prof         463 non-null    int64  \n",
      "dtypes: float64(2), int64(5), object(6)\n",
      "memory usage: 47.1+ KB\n"
     ]
    }
   ],
   "source": [
    "df.info()"
   ]
  },
  {
   "cell_type": "markdown",
   "id": "0f463c25",
   "metadata": {},
   "source": [
    "# <font color='red'>Teaching Evaluation based on Teachers Gender</font>"
   ]
  },
  {
   "cell_type": "code",
   "execution_count": 5,
   "id": "12263e15",
   "metadata": {},
   "outputs": [
    {
     "data": {
      "image/png": "[encoded data removed]",
      "text/plain": [
       "<Figure size 432x288 with 1 Axes>"
      ]
     },
     "metadata": {},
     "output_type": "display_data"
    }
   ],
   "source": [
    "# visualize marks based on sex\n",
    "\n",
    "sns.boxplot(x='gender', y='eval', data=df)\n",
    "plt.xlabel('Gender')\n",
    "plt.ylabel('Score')\n",
    "plt.title('Teacher evaluation based on his gender (sex)')\n",
    "plt.show()"
   ]
  },
  {
   "cell_type": "code",
   "execution_count": 6,
   "id": "1e021d15",
   "metadata": {},
   "outputs": [
    {
     "data": {
      "text/plain": [
       "<seaborn.axisgrid.FacetGrid at 0x7ff98f6b9d90>"
      ]
     },
     "execution_count": 6,
     "metadata": {},
     "output_type": "execute_result"
    },
    {
     "data": {
      "image/png": "[encoded data removed]",
      "text/plain": [
       "<Figure size 360x360 with 1 Axes>"
      ]
     },
     "metadata": {},
     "output_type": "display_data"
    }
   ],
   "source": [
    "# Histogram of 'eval' variable\n",
    "\n",
    "sns.displot(df['eval'], kde=False)"
   ]
  },
  {
   "cell_type": "code",
   "execution_count": 7,
   "id": "4846aaf6",
   "metadata": {},
   "outputs": [
    {
     "data": {
      "text/plain": [
       "Jarque_beraResult(statistic=17.018549771358753, pvalue=0.00020158994768593175)"
      ]
     },
     "execution_count": 7,
     "metadata": {},
     "output_type": "execute_result"
    }
   ],
   "source": [
    "# Jarque-Bera Normality test \n",
    "\n",
    "stats.jarque_bera(df['eval'])"
   ]
  },
  {
   "cell_type": "code",
   "execution_count": 8,
   "id": "01c48a6e",
   "metadata": {},
   "outputs": [
    {
     "data": {
      "text/plain": [
       "ShapiroResult(statistic=0.9775140285491943, pvalue=1.4251236279960722e-06)"
      ]
     },
     "execution_count": 8,
     "metadata": {},
     "output_type": "execute_result"
    }
   ],
   "source": [
    "# Shapiro-Wilk Normality test \n",
    "\n",
    "stats.shapiro(df['eval'])"
   ]
  },
  {
   "cell_type": "code",
   "execution_count": 9,
   "id": "aa75f3a7",
   "metadata": {},
   "outputs": [
    {
     "data": {
      "text/plain": [
       "LeveneResult(statistic=0.1903291042882263, pvalue=0.6628470833776139)"
      ]
     },
     "execution_count": 9,
     "metadata": {},
     "output_type": "execute_result"
    }
   ],
   "source": [
    "# variances homogeneity\n",
    "\n",
    "stats.levene(df[df.gender == 'female']['eval'], df[df.gender=='male']['eval'], center='mean')"
   ]
  },
  {
   "cell_type": "code",
   "execution_count": 10,
   "id": "6d7c7efb",
   "metadata": {},
   "outputs": [
    {
     "data": {
      "text/plain": [
       "Ttest_indResult(statistic=-3.249937838941004, pvalue=0.0012387613901376534)"
      ]
     },
     "execution_count": 10,
     "metadata": {},
     "output_type": "execute_result"
    }
   ],
   "source": [
    "# T-test\n",
    "stats.ttest_ind(df[df.gender == 'female']['eval'], df[df.gender == 'male']['eval'], equal_var=True)"
   ]
  },
  {
   "cell_type": "markdown",
   "id": "c088da0f",
   "metadata": {},
   "source": [
    "# <font color='red'>Beauty score based on age</font>"
   ]
  },
  {
   "cell_type": "code",
   "execution_count": 11,
   "id": "9a0b7c8b",
   "metadata": {},
   "outputs": [
    {
     "data": {
      "text/plain": [
       "<seaborn.axisgrid.FacetGrid at 0x7ff98f4db0d0>"
      ]
     },
     "execution_count": 11,
     "metadata": {},
     "output_type": "execute_result"
    },
    {
     "data": {
      "image/png": "[encoded data removed]",
      "text/plain": [
       "<Figure size 360x360 with 1 Axes>"
      ]
     },
     "metadata": {},
     "output_type": "display_data"
    }
   ],
   "source": [
    "sns.displot(df['age'])"
   ]
  },
  {
   "cell_type": "code",
   "execution_count": 12,
   "id": "7a2b79ab",
   "metadata": {},
   "outputs": [
    {
     "data": {
      "text/plain": [
       "array(['40 years and youngers', 'between 40 and 60 years',\n",
       "       '60 years and olders'], dtype=object)"
      ]
     },
     "execution_count": 12,
     "metadata": {},
     "output_type": "execute_result"
    }
   ],
   "source": [
    "# ages categorization\n",
    "\n",
    "df.loc[(df['age'] <= 40), 'age_group'] = '40 years and youngers'\n",
    "df.loc[(df['age'] > 40) & (df['age'] < 60), 'age_group'] = 'between 40 and 60 years'\n",
    "df.loc[(df['age'] >= 60), 'age_group'] = '60 years and olders'\n",
    "\n",
    "df['age_group'].unique()"
   ]
  },
  {
   "cell_type": "code",
   "execution_count": 13,
   "id": "fb6a81b9",
   "metadata": {},
   "outputs": [
    {
     "data": {
      "text/html": [
       "<div>\n",
       "<style scoped>\n",
       "    .dataframe tbody tr th:only-of-type {\n",
       "        vertical-align: middle;\n",
       "    }\n",
       "\n",
       "    .dataframe tbody tr th {\n",
       "        vertical-align: top;\n",
       "    }\n",
       "\n",
       "    .dataframe thead th {\n",
       "        text-align: right;\n",
       "    }\n",
       "</style>\n",
       "<table border=\"1\" class=\"dataframe\">\n",
       "  <thead>\n",
       "    <tr style=\"text-align: right;\">\n",
       "      <th></th>\n",
       "      <th>Unnamed: 0</th>\n",
       "      <th>minority</th>\n",
       "      <th>age</th>\n",
       "      <th>gender</th>\n",
       "      <th>credits</th>\n",
       "      <th>beauty</th>\n",
       "      <th>eval</th>\n",
       "      <th>division</th>\n",
       "      <th>native</th>\n",
       "      <th>tenure</th>\n",
       "      <th>students</th>\n",
       "      <th>allstudents</th>\n",
       "      <th>prof</th>\n",
       "      <th>age_group</th>\n",
       "    </tr>\n",
       "  </thead>\n",
       "  <tbody>\n",
       "    <tr>\n",
       "      <th>0</th>\n",
       "      <td>1</td>\n",
       "      <td>yes</td>\n",
       "      <td>36</td>\n",
       "      <td>female</td>\n",
       "      <td>more</td>\n",
       "      <td>0.289916</td>\n",
       "      <td>4.3</td>\n",
       "      <td>upper</td>\n",
       "      <td>yes</td>\n",
       "      <td>yes</td>\n",
       "      <td>24</td>\n",
       "      <td>43</td>\n",
       "      <td>1</td>\n",
       "      <td>40 years and youngers</td>\n",
       "    </tr>\n",
       "    <tr>\n",
       "      <th>1</th>\n",
       "      <td>2</td>\n",
       "      <td>no</td>\n",
       "      <td>59</td>\n",
       "      <td>male</td>\n",
       "      <td>more</td>\n",
       "      <td>-0.737732</td>\n",
       "      <td>4.5</td>\n",
       "      <td>upper</td>\n",
       "      <td>yes</td>\n",
       "      <td>yes</td>\n",
       "      <td>17</td>\n",
       "      <td>20</td>\n",
       "      <td>2</td>\n",
       "      <td>between 40 and 60 years</td>\n",
       "    </tr>\n",
       "    <tr>\n",
       "      <th>2</th>\n",
       "      <td>3</td>\n",
       "      <td>no</td>\n",
       "      <td>51</td>\n",
       "      <td>male</td>\n",
       "      <td>more</td>\n",
       "      <td>-0.571984</td>\n",
       "      <td>3.7</td>\n",
       "      <td>upper</td>\n",
       "      <td>yes</td>\n",
       "      <td>yes</td>\n",
       "      <td>55</td>\n",
       "      <td>55</td>\n",
       "      <td>3</td>\n",
       "      <td>between 40 and 60 years</td>\n",
       "    </tr>\n",
       "    <tr>\n",
       "      <th>3</th>\n",
       "      <td>4</td>\n",
       "      <td>no</td>\n",
       "      <td>40</td>\n",
       "      <td>female</td>\n",
       "      <td>more</td>\n",
       "      <td>-0.677963</td>\n",
       "      <td>4.3</td>\n",
       "      <td>upper</td>\n",
       "      <td>yes</td>\n",
       "      <td>yes</td>\n",
       "      <td>40</td>\n",
       "      <td>46</td>\n",
       "      <td>4</td>\n",
       "      <td>40 years and youngers</td>\n",
       "    </tr>\n",
       "    <tr>\n",
       "      <th>4</th>\n",
       "      <td>5</td>\n",
       "      <td>no</td>\n",
       "      <td>31</td>\n",
       "      <td>female</td>\n",
       "      <td>more</td>\n",
       "      <td>1.509794</td>\n",
       "      <td>4.4</td>\n",
       "      <td>upper</td>\n",
       "      <td>yes</td>\n",
       "      <td>yes</td>\n",
       "      <td>42</td>\n",
       "      <td>48</td>\n",
       "      <td>5</td>\n",
       "      <td>40 years and youngers</td>\n",
       "    </tr>\n",
       "    <tr>\n",
       "      <th>...</th>\n",
       "      <td>...</td>\n",
       "      <td>...</td>\n",
       "      <td>...</td>\n",
       "      <td>...</td>\n",
       "      <td>...</td>\n",
       "      <td>...</td>\n",
       "      <td>...</td>\n",
       "      <td>...</td>\n",
       "      <td>...</td>\n",
       "      <td>...</td>\n",
       "      <td>...</td>\n",
       "      <td>...</td>\n",
       "      <td>...</td>\n",
       "      <td>...</td>\n",
       "    </tr>\n",
       "    <tr>\n",
       "      <th>458</th>\n",
       "      <td>459</td>\n",
       "      <td>no</td>\n",
       "      <td>32</td>\n",
       "      <td>male</td>\n",
       "      <td>more</td>\n",
       "      <td>1.231394</td>\n",
       "      <td>3.2</td>\n",
       "      <td>lower</td>\n",
       "      <td>yes</td>\n",
       "      <td>yes</td>\n",
       "      <td>9</td>\n",
       "      <td>21</td>\n",
       "      <td>93</td>\n",
       "      <td>40 years and youngers</td>\n",
       "    </tr>\n",
       "    <tr>\n",
       "      <th>459</th>\n",
       "      <td>460</td>\n",
       "      <td>no</td>\n",
       "      <td>32</td>\n",
       "      <td>male</td>\n",
       "      <td>more</td>\n",
       "      <td>1.231394</td>\n",
       "      <td>4.3</td>\n",
       "      <td>upper</td>\n",
       "      <td>yes</td>\n",
       "      <td>yes</td>\n",
       "      <td>52</td>\n",
       "      <td>86</td>\n",
       "      <td>93</td>\n",
       "      <td>40 years and youngers</td>\n",
       "    </tr>\n",
       "    <tr>\n",
       "      <th>460</th>\n",
       "      <td>461</td>\n",
       "      <td>yes</td>\n",
       "      <td>42</td>\n",
       "      <td>female</td>\n",
       "      <td>more</td>\n",
       "      <td>0.420400</td>\n",
       "      <td>3.3</td>\n",
       "      <td>upper</td>\n",
       "      <td>no</td>\n",
       "      <td>yes</td>\n",
       "      <td>52</td>\n",
       "      <td>67</td>\n",
       "      <td>94</td>\n",
       "      <td>between 40 and 60 years</td>\n",
       "    </tr>\n",
       "    <tr>\n",
       "      <th>461</th>\n",
       "      <td>462</td>\n",
       "      <td>yes</td>\n",
       "      <td>42</td>\n",
       "      <td>female</td>\n",
       "      <td>more</td>\n",
       "      <td>0.420400</td>\n",
       "      <td>3.2</td>\n",
       "      <td>upper</td>\n",
       "      <td>no</td>\n",
       "      <td>yes</td>\n",
       "      <td>54</td>\n",
       "      <td>66</td>\n",
       "      <td>94</td>\n",
       "      <td>between 40 and 60 years</td>\n",
       "    </tr>\n",
       "    <tr>\n",
       "      <th>462</th>\n",
       "      <td>463</td>\n",
       "      <td>yes</td>\n",
       "      <td>42</td>\n",
       "      <td>female</td>\n",
       "      <td>single</td>\n",
       "      <td>0.420400</td>\n",
       "      <td>4.1</td>\n",
       "      <td>lower</td>\n",
       "      <td>no</td>\n",
       "      <td>yes</td>\n",
       "      <td>28</td>\n",
       "      <td>35</td>\n",
       "      <td>94</td>\n",
       "      <td>between 40 and 60 years</td>\n",
       "    </tr>\n",
       "  </tbody>\n",
       "</table>\n",
       "<p>463 rows × 14 columns</p>\n",
       "</div>"
      ],
      "text/plain": [
       "     Unnamed: 0 minority  age  gender credits    beauty  eval division native  \\\n",
       "0             1      yes   36  female    more  0.289916   4.3    upper    yes   \n",
       "1             2       no   59    male    more -0.737732   4.5    upper    yes   \n",
       "2             3       no   51    male    more -0.571984   3.7    upper    yes   \n",
       "3             4       no   40  female    more -0.677963   4.3    upper    yes   \n",
       "4             5       no   31  female    more  1.509794   4.4    upper    yes   \n",
       "..          ...      ...  ...     ...     ...       ...   ...      ...    ...   \n",
       "458         459       no   32    male    more  1.231394   3.2    lower    yes   \n",
       "459         460       no   32    male    more  1.231394   4.3    upper    yes   \n",
       "460         461      yes   42  female    more  0.420400   3.3    upper     no   \n",
       "461         462      yes   42  female    more  0.420400   3.2    upper     no   \n",
       "462         463      yes   42  female  single  0.420400   4.1    lower     no   \n",
       "\n",
       "    tenure  students  allstudents  prof                age_group  \n",
       "0      yes        24           43     1    40 years and youngers  \n",
       "1      yes        17           20     2  between 40 and 60 years  \n",
       "2      yes        55           55     3  between 40 and 60 years  \n",
       "3      yes        40           46     4    40 years and youngers  \n",
       "4      yes        42           48     5    40 years and youngers  \n",
       "..     ...       ...          ...   ...                      ...  \n",
       "458    yes         9           21    93    40 years and youngers  \n",
       "459    yes        52           86    93    40 years and youngers  \n",
       "460    yes        52           67    94  between 40 and 60 years  \n",
       "461    yes        54           66    94  between 40 and 60 years  \n",
       "462    yes        28           35    94  between 40 and 60 years  \n",
       "\n",
       "[463 rows x 14 columns]"
      ]
     },
     "execution_count": 13,
     "metadata": {},
     "output_type": "execute_result"
    }
   ],
   "source": [
    "df"
   ]
  },
  {
   "cell_type": "code",
   "execution_count": 14,
   "id": "965f250d",
   "metadata": {},
   "outputs": [
    {
     "data": {
      "text/plain": [
       "LeveneResult(statistic=11.76973549265202, pvalue=1.0350400450464825e-05)"
      ]
     },
     "execution_count": 14,
     "metadata": {},
     "output_type": "execute_result"
    }
   ],
   "source": [
    "# variance equality test\n",
    "\n",
    "stats.levene(df[df.age_group == '40 years and youngers']['beauty'], \n",
    "             df[df.age_group == 'between 40 and 60 years']['beauty'],\n",
    "             df[df.age_group == '60 years and olders']['beauty'],\n",
    "             center = 'mean')"
   ]
  },
  {
   "cell_type": "code",
   "execution_count": 15,
   "id": "3dc26b2e",
   "metadata": {},
   "outputs": [],
   "source": [
    "forty_lower = df[df.age_group == '40 years and youngers']['beauty']\n",
    "forty_sixty = df[df.age_group == 'between 40 and 60 years']['beauty']\n",
    "sixty_older = df[df.age_group == '60 years and olders']['beauty']"
   ]
  },
  {
   "cell_type": "code",
   "execution_count": 16,
   "id": "9b8fc7dc",
   "metadata": {},
   "outputs": [
    {
     "data": {
      "text/plain": [
       "F_onewayResult(statistic=23.55255211899511, pvalue=1.8271131417378478e-10)"
      ]
     },
     "execution_count": 16,
     "metadata": {},
     "output_type": "execute_result"
    }
   ],
   "source": [
    "# One-way ANOVA\n",
    "\n",
    "stats.f_oneway(forty_lower, forty_sixty, sixty_older)"
   ]
  },
  {
   "cell_type": "code",
   "execution_count": null,
   "id": "0952d15c",
   "metadata": {},
   "outputs": [],
   "source": []
  }
 ],
 "metadata": {
  "kernelspec": {
   "display_name": "Python 3.7.6 64-bit ('base': conda)",
   "language": "python",
   "name": "python376jvsc74a57bd03ca13b5534c12a9311b47af47fdc7831b9621df0313486dd3cd3c916771e6650"
  },
  "language_info": {
   "codemirror_mode": {
    "name": "ipython",
    "version": 3
   },
   "file_extension": ".py",
   "mimetype": "text/x-python",
   "name": "python",
   "nbconvert_exporter": "python",
   "pygments_lexer": "ipython3",
   "version": "3.7.11"
  },
  "toc": {
   "base_numbering": 1,
   "nav_menu": {},
   "number_sections": true,
   "sideBar": true,
   "skip_h1_title": false,
   "title_cell": "Table of Contents",
   "title_sidebar": "Contents",
   "toc_cell": false,
   "toc_position": {},
   "toc_section_display": true,
   "toc_window_display": false
  }
 },
 "nbformat": 4,
 "nbformat_minor": 5
}
